{
 "cells": [
  {
   "cell_type": "code",
   "execution_count": 1,
   "metadata": {},
   "outputs": [],
   "source": [
    "# Useful starting lines\n",
    "%matplotlib inline\n",
    "import numpy as np\n",
    "import matplotlib.pyplot as plt\n",
    "%load_ext autoreload\n",
    "%autoreload 2"
   ]
  },
  {
   "cell_type": "markdown",
   "metadata": {},
   "source": [
    "# Logistic Regression\n",
    "## Classification Using Linear Regression\n",
    "Load your data."
   ]
  },
  {
   "cell_type": "code",
   "execution_count": 2,
   "metadata": {},
   "outputs": [],
   "source": [
    "from helpers import sample_data, load_data, standardize\n",
    "\n",
    "# load data.\n",
    "height, weight, gender = load_data()\n",
    "\n",
    "# build sampled x and y.\n",
    "seed = 1\n",
    "y = np.expand_dims(gender, axis=1)\n",
    "X = np.c_[height.reshape(-1), weight.reshape(-1)]\n",
    "y, X = sample_data(y, X, seed, size_samples=200)\n",
    "x, mean_x, std_x = standardize(X)"
   ]
  },
  {
   "cell_type": "code",
   "execution_count": 5,
   "metadata": {},
   "outputs": [
    {
     "data": {
      "text/plain": [
       "(200, 2)"
      ]
     },
     "execution_count": 5,
     "metadata": {},
     "output_type": "execute_result"
    }
   ],
   "source": [
    "np.shape(x)"
   ]
  },
  {
   "cell_type": "markdown",
   "metadata": {},
   "source": [
    "Use `least_squares` to compute w, and visualize the results."
   ]
  },
  {
   "cell_type": "code",
   "execution_count": 6,
   "metadata": {},
   "outputs": [
    {
     "data": {
      "image/png": "[encoded data removed]",
      "text/plain": [
       "<Figure size 432x288 with 2 Axes>"
      ]
     },
     "metadata": {
      "needs_background": "light"
     },
     "output_type": "display_data"
    }
   ],
   "source": [
    "from least_squares import least_squares\n",
    "from plots import visualization\n",
    "\n",
    "def least_square_classification_demo(y, x):\n",
    "    # ***************************************************\n",
    "    # INSERT YOUR CODE HERE\n",
    "    # classify the data by linear regression: TODO\n",
    "    # ***************************************************\n",
    "    tx = np.c_[np.ones((y.shape[0], 1)), x]\n",
    "    # w = least squares with respect to tx and y\n",
    "    w = least_squares(y, tx)\n",
    "    #raise NotImplementedError\n",
    "\n",
    "    visualization(y, x, mean_x, std_x, w, \"classification_by_least_square\")\n",
    "    \n",
    "least_square_classification_demo(y, x)"
   ]
  },
  {
   "cell_type": "markdown",
   "metadata": {},
   "source": [
    "## Logistic Regression"
   ]
  },
  {
   "cell_type": "markdown",
   "metadata": {},
   "source": [
    "Compute negative log likelihood loss."
   ]
  },
  {
   "cell_type": "code",
   "execution_count": 7,
   "metadata": {},
   "outputs": [],
   "source": [
    "def sigmoid(t):\n",
    "    \"\"\"apply the sigmoid function on t.\"\"\"\n",
    "    # ***************************************************\n",
    "    # INSERT YOUR CODE HERE\n",
    "    # TODO\n",
    "    # ***************************************************\n",
    "    return 1/(1+np.exp(-t))\n",
    "    raise NotImplementedError"
   ]
  },
  {
   "cell_type": "code",
   "execution_count": 21,
   "metadata": {
    "jupyter": {
     "outputs_hidden": true
    }
   },
   "outputs": [],
   "source": [
    "def calculate_loss(y, tx, w):\n",
    "    \"\"\"compute the loss: negative log likelihood.\"\"\"\n",
    "    # ***************************************************\n",
    "    # INSERT YOUR CODE HERE\n",
    "    # TODO\n",
    "    # ***************************************************\n",
    "    loss = 0\n",
    "    for i in range(len(y)):\n",
    "        loss = loss + y[i]*np.log(sigmoid(np.matmul(tx[i],w))) + (1-y[i])*np.log(1-sigmoid(np.matmul(tx[i],w)))\n",
    "        \n",
    "    loss = loss*-1/len(y)\n",
    "    return loss\n",
    "    \n",
    "    raise NotImplementedError"
   ]
  },
  {
   "cell_type": "code",
   "execution_count": 33,
   "metadata": {
    "jupyter": {
     "outputs_hidden": true
    }
   },
   "outputs": [],
   "source": [
    "def calculate_gradient(y, tx, w):\n",
    "    \"\"\"compute the gradient of loss.\"\"\"\n",
    "    # ***************************************************\n",
    "    # INSERT YOUR CODE HERE\n",
    "    # TODO\n",
    "    # ***************************************************\n",
    "    grad = sigmoid(np.matmul(tx,w)) - y\n",
    "    grad = np.matmul(np.transpose(tx),grad)\n",
    "    return -grad\n",
    "    \n",
    "    raise NotImplementedError"
   ]
  },
  {
   "cell_type": "markdown",
   "metadata": {},
   "source": [
    "### Using Gradient Descent\n",
    "Implement your function to calculate the gradient for logistic regression."
   ]
  },
  {
   "cell_type": "code",
   "execution_count": 34,
   "metadata": {
    "jupyter": {
     "outputs_hidden": true
    }
   },
   "outputs": [],
   "source": [
    "def learning_by_gradient_descent(y, tx, w, gamma):\n",
    "    \"\"\"\n",
    "    Do one step of gradient descent using logistic regression.\n",
    "    Return the loss and the updated w.\n",
    "    \"\"\"\n",
    "    # ***************************************************\n",
    "    # INSERT YOUR CODE HERE\n",
    "    # compute the loss: TODO\n",
    "    # ***************************************************\n",
    "    loss = calculate_loss(y,tx,w)\n",
    "    grad = calculate_gradient(y,tx,w)\n",
    "    w = w + grad*gamma\n",
    "    \n",
    "    #raise NotImplementedError\n",
    "    # ***************************************************\n",
    "    # INSERT YOUR CODE HERE\n",
    "    # compute the gradient: TODO\n",
    "    # ***************************************************\n",
    "    \n",
    "    #raise NotImplementedError\n",
    "    # ***************************************************\n",
    "    # INSERT YOUR CODE HERE\n",
    "    # update w: TODO\n",
    "    # ***************************************************\n",
    "    #raise NotImplementedError\n",
    "    \n",
    "    return loss, w"
   ]
  },
  {
   "cell_type": "code",
   "execution_count": 35,
   "metadata": {},
   "outputs": [
    {
     "data": {
      "text/plain": [
       "array([[ 0.2       ],\n",
       "       [-6.8746037 ],\n",
       "       [-7.96130209]])"
      ]
     },
     "execution_count": 35,
     "metadata": {},
     "output_type": "execute_result"
    }
   ],
   "source": [
    "tx = np.c_[np.ones((y.shape[0], 1)), x]\n",
    "w = np.zeros((tx.shape[1], 1))\n",
    "\n",
    "(learning_by_gradient_descent(y, tx, w, 0.1)[1])"
   ]
  },
  {
   "cell_type": "markdown",
   "metadata": {},
   "source": [
    "Demo!"
   ]
  },
  {
   "cell_type": "code",
   "execution_count": 37,
   "metadata": {},
   "outputs": [
    {
     "name": "stdout",
     "output_type": "stream",
     "text": [
      "Current iteration=0, loss=[0.69314718]\n",
      "Current iteration=100, loss=[0.21732016]\n",
      "Current iteration=200, loss=[0.20772946]\n",
      "Current iteration=300, loss=[0.20549319]\n",
      "Current iteration=400, loss=[0.20482435]\n",
      "Current iteration=500, loss=[0.20460045]\n",
      "Current iteration=600, loss=[0.20452094]\n",
      "Current iteration=700, loss=[0.20449175]\n",
      "Current iteration=800, loss=[0.20448082]\n",
      "Current iteration=900, loss=[0.20447669]\n",
      "loss=[0.20447515]\n"
     ]
    },
    {
     "data": {
      "image/png": "[encoded data removed]",
      "text/plain": [
       "<Figure size 432x288 with 2 Axes>"
      ]
     },
     "metadata": {
      "needs_background": "light"
     },
     "output_type": "display_data"
    }
   ],
   "source": [
    "from helpers import de_standardize\n",
    "\n",
    "def logistic_regression_gradient_descent_demo(y, x):\n",
    "    # init parameters\n",
    "    max_iter = 10000\n",
    "    threshold = 1e-8\n",
    "    gamma = 0.01\n",
    "    losses = []\n",
    "\n",
    "    # build tx\n",
    "    tx = np.c_[np.ones((y.shape[0], 1)), x]\n",
    "    w = np.zeros((tx.shape[1], 1))\n",
    "\n",
    "    # start the logistic regression\n",
    "    for iter in range(max_iter):\n",
    "        # get loss and update w.\n",
    "        loss, w = learning_by_gradient_descent(y, tx, w, gamma)\n",
    "        # log info\n",
    "        if iter % 100 == 0:\n",
    "            print(\"Current iteration={i}, loss={l}\".format(i=iter, l=loss))\n",
    "        # converge criterion\n",
    "        losses.append(loss)\n",
    "        if len(losses) > 1 and np.abs(losses[-1] - losses[-2]) < threshold:\n",
    "            break\n",
    "    # visualization\n",
    "    visualization(y, x, mean_x, std_x, w, \"classification_by_logistic_regression_gradient_descent\", True)\n",
    "    print(\"loss={l}\".format(l=calculate_loss(y, tx, w)))\n",
    "\n",
    "logistic_regression_gradient_descent_demo(y, x)"
   ]
  },
  {
   "cell_type": "markdown",
   "metadata": {},
   "source": [
    "Calculate your Hessian below"
   ]
  },
  {
   "cell_type": "code",
   "execution_count": 39,
   "metadata": {
    "jupyter": {
     "outputs_hidden": true
    }
   },
   "outputs": [],
   "source": [
    "def calculate_hessian(y, tx, w):\n",
    "    \"\"\"return the Hessian of the loss function.\"\"\"\n",
    "    # ***************************************************\n",
    "    # INSERT YOUR CODE HERE\n",
    "    # calculate Hessian: TODO\n",
    "    # ***************************************************\n",
    "    \n",
    "    temp = sigmoid(np.matmul(tx,w))\n",
    "    hess = np.matmul(np.transpose(tx),np.matmul(temp,np.transpose(1-temp)))\n",
    "    hess = np.matmul(hess,tx)\n",
    "    return hess\n",
    "    \n",
    "    raise NotImplementedError"
   ]
  },
  {
   "cell_type": "markdown",
   "metadata": {},
   "source": [
    "Write a function below to return loss, gradient, and Hessian."
   ]
  },
  {
   "cell_type": "code",
   "execution_count": 40,
   "metadata": {
    "jupyter": {
     "outputs_hidden": true
    }
   },
   "outputs": [],
   "source": [
    "def logistic_regression(y, tx, w):\n",
    "    \"\"\"return the loss, gradient, and Hessian.\"\"\"\n",
    "    # ***************************************************\n",
    "    # INSERT YOUR CODE HERE\n",
    "    # return loss, gradient, and Hessian: TODO\n",
    "    # ***************************************************\n",
    "    loss = calculate_loss(y,tx,w)\n",
    "    gradient = calculate_gradient(y,tx,w)\n",
    "    hess = calculate_hessian(y,tx,w)\n",
    "    \n",
    "    return loss, gradient, hess\n",
    "    \n",
    "    raise NotImplementedError"
   ]
  },
  {
   "cell_type": "markdown",
   "metadata": {},
   "source": [
    "### Using Newton's method\n",
    "Use Newton's method for logistic regression."
   ]
  },
  {
   "cell_type": "code",
   "execution_count": 43,
   "metadata": {
    "jupyter": {
     "outputs_hidden": true
    }
   },
   "outputs": [],
   "source": [
    "def learning_by_newton_method(y, tx, w, gamma):\n",
    "    \"\"\"\n",
    "    Do one step on Newton's method.\n",
    "    return the loss and updated w.\n",
    "    \"\"\"\n",
    "    # ***************************************************\n",
    "    # INSERT YOUR CODE HERE\n",
    "    # return loss, gradient and Hessian: TODO\n",
    "    # ***************************************************\n",
    "    loss, grad, hess = logistic_regression(y, tx, w)\n",
    "    w = w - gamma*np.matmul(np.linalg.inv(hess),grad) \n",
    "    \n",
    "    #raise NotImplementedError\n",
    "    # ***************************************************\n",
    "    # INSERT YOUR CODE HERE\n",
    "    # update w: TODO\n",
    "    # ***************************************************\n",
    "    #raise NotImplementedError\n",
    "    return loss, w"
   ]
  },
  {
   "cell_type": "markdown",
   "metadata": {},
   "source": [
    "demo"
   ]
  },
  {
   "cell_type": "code",
   "execution_count": 44,
   "metadata": {
    "scrolled": true
   },
   "outputs": [
    {
     "name": "stdout",
     "output_type": "stream",
     "text": [
      "Current iteration=0, the loss=[0.69314718]\n",
      "Current iteration=1, the loss=[nan]\n",
      "Current iteration=2, the loss=[nan]\n",
      "Current iteration=3, the loss=[nan]\n",
      "Current iteration=4, the loss=[nan]\n",
      "Current iteration=5, the loss=[nan]\n",
      "Current iteration=6, the loss=[nan]\n",
      "Current iteration=7, the loss=[nan]\n",
      "Current iteration=8, the loss=[nan]\n",
      "Current iteration=9, the loss=[nan]\n",
      "Current iteration=10, the loss=[nan]\n",
      "Current iteration=11, the loss=[nan]\n",
      "Current iteration=12, the loss=[nan]\n",
      "Current iteration=13, the loss=[nan]\n",
      "Current iteration=14, the loss=[nan]\n",
      "Current iteration=15, the loss=[nan]\n",
      "Current iteration=16, the loss=[nan]\n",
      "Current iteration=17, the loss=[nan]\n",
      "Current iteration=18, the loss=[nan]\n",
      "Current iteration=19, the loss=[nan]\n",
      "Current iteration=20, the loss=[nan]\n",
      "Current iteration=21, the loss=[nan]\n",
      "Current iteration=22, the loss=[nan]\n",
      "Current iteration=23, the loss=[nan]\n",
      "Current iteration=24, the loss=[nan]\n",
      "Current iteration=25, the loss=[nan]\n",
      "Current iteration=26, the loss=[nan]\n",
      "Current iteration=27, the loss=[nan]\n",
      "Current iteration=28, the loss=[nan]\n",
      "Current iteration=29, the loss=[nan]\n",
      "Current iteration=30, the loss=[nan]\n",
      "Current iteration=31, the loss=[nan]\n",
      "Current iteration=32, the loss=[nan]\n",
      "Current iteration=33, the loss=[nan]\n",
      "Current iteration=34, the loss=[nan]\n",
      "Current iteration=35, the loss=[nan]\n",
      "Current iteration=36, the loss=[nan]\n",
      "Current iteration=37, the loss=[nan]\n",
      "Current iteration=38, the loss=[nan]"
     ]
    },
    {
     "name": "stderr",
     "output_type": "stream",
     "text": [
      "C:\\Users\\tushar\\Anaconda3\\lib\\site-packages\\ipykernel_launcher.py:9: RuntimeWarning: divide by zero encountered in log\n",
      "  if __name__ == '__main__':\n",
      "C:\\Users\\tushar\\Anaconda3\\lib\\site-packages\\ipykernel_launcher.py:9: RuntimeWarning: invalid value encountered in multiply\n",
      "  if __name__ == '__main__':\n",
      "C:\\Users\\tushar\\Anaconda3\\lib\\site-packages\\ipykernel_launcher.py:7: RuntimeWarning: overflow encountered in exp\n",
      "  import sys\n",
      "C:\\Users\\tushar\\Anaconda3\\lib\\site-packages\\ipykernel_launcher.py:22: RuntimeWarning: invalid value encountered in less\n"
     ]
    },
    {
     "name": "stdout",
     "output_type": "stream",
     "text": [
      "\n",
      "Current iteration=39, the loss=[nan]\n",
      "Current iteration=40, the loss=[nan]\n",
      "Current iteration=41, the loss=[nan]\n",
      "Current iteration=42, the loss=[nan]\n",
      "Current iteration=43, the loss=[nan]\n",
      "Current iteration=44, the loss=[nan]\n",
      "Current iteration=45, the loss=[nan]\n",
      "Current iteration=46, the loss=[nan]\n",
      "Current iteration=47, the loss=[nan]\n",
      "Current iteration=48, the loss=[nan]\n",
      "Current iteration=49, the loss=[nan]\n",
      "Current iteration=50, the loss=[nan]\n",
      "Current iteration=51, the loss=[nan]\n",
      "Current iteration=52, the loss=[nan]\n",
      "Current iteration=53, the loss=[nan]\n",
      "Current iteration=54, the loss=[nan]\n",
      "Current iteration=55, the loss=[nan]\n",
      "Current iteration=56, the loss=[nan]\n",
      "Current iteration=57, the loss=[nan]\n",
      "Current iteration=58, the loss=[nan]\n",
      "Current iteration=59, the loss=[nan]\n",
      "Current iteration=60, the loss=[nan]\n",
      "Current iteration=61, the loss=[nan]\n",
      "Current iteration=62, the loss=[nan]\n",
      "Current iteration=63, the loss=[nan]\n",
      "Current iteration=64, the loss=[nan]\n",
      "Current iteration=65, the loss=[nan]\n",
      "Current iteration=66, the loss=[nan]\n",
      "Current iteration=67, the loss=[nan]\n",
      "Current iteration=68, the loss=[nan]\n",
      "Current iteration=69, the loss=[nan]\n",
      "Current iteration=70, the loss=[nan]\n",
      "Current iteration=71, the loss=[nan]\n",
      "Current iteration=72, the loss=[nan]\n",
      "Current iteration=73, the loss=[nan]\n",
      "Current iteration=74, the loss=[nan]\n",
      "Current iteration=75, the loss=[nan]\n",
      "Current iteration=76, the loss=[nan]\n",
      "Current iteration=77, the loss=[nan]\n",
      "Current iteration=78, the loss=[nan]\n",
      "Current iteration=79, the loss=[nan]\n",
      "Current iteration=80, the loss=[nan]\n",
      "Current iteration=81, the loss=[nan]\n",
      "Current iteration=82, the loss=[nan]\n",
      "Current iteration=83, the loss=[nan]\n",
      "Current iteration=84, the loss=[nan]\n",
      "Current iteration=85, the loss=[nan]\n",
      "Current iteration=86, the loss=[nan]\n",
      "Current iteration=87, the loss=[nan]\n",
      "Current iteration=88, the loss=[nan]\n",
      "Current iteration=89, the loss=[nan]\n",
      "Current iteration=90, the loss=[nan]\n",
      "Current iteration=91, the loss=[nan]\n",
      "Current iteration=92, the loss=[nan]\n",
      "Current iteration=93, the loss=[nan]\n",
      "Current iteration=94, the loss=[nan]\n",
      "Current iteration=95, the loss=[nan]\n",
      "Current iteration=96, the loss=[nan]\n",
      "Current iteration=97, the loss=[nan]\n",
      "Current iteration=98, the loss=[nan]\n",
      "Current iteration=99, the loss=[nan]\n",
      "loss=[nan]\n"
     ]
    },
    {
     "name": "stderr",
     "output_type": "stream",
     "text": [
      "C:\\Users\\tushar\\Anaconda3\\lib\\site-packages\\ipykernel_launcher.py:9: RuntimeWarning: divide by zero encountered in log\n",
      "  if __name__ == '__main__':\n",
      "C:\\Users\\tushar\\Anaconda3\\lib\\site-packages\\ipykernel_launcher.py:9: RuntimeWarning: invalid value encountered in multiply\n",
      "  if __name__ == '__main__':\n",
      "C:\\Users\\tushar\\Anaconda3\\lib\\site-packages\\ipykernel_launcher.py:7: RuntimeWarning: overflow encountered in exp\n",
      "  import sys\n"
     ]
    },
    {
     "data": {
      "image/png": "[encoded data removed]",
      "text/plain": [
       "<Figure size 432x288 with 2 Axes>"
      ]
     },
     "metadata": {
      "needs_background": "light"
     },
     "output_type": "display_data"
    }
   ],
   "source": [
    "def logistic_regression_newton_method_demo(y, x):\n",
    "    # init parameters\n",
    "    max_iter = 100\n",
    "    threshold = 1e-8\n",
    "    lambda_ = 0.1\n",
    "    gamma = 1.\n",
    "    losses = []\n",
    "\n",
    "    # build tx\n",
    "    tx = np.c_[np.ones((y.shape[0], 1)), x]\n",
    "    w = np.zeros((tx.shape[1], 1))\n",
    "\n",
    "    # start the logistic regression\n",
    "    for iter in range(max_iter):\n",
    "        # get loss and update w.\n",
    "        loss, w = learning_by_newton_method(y, tx, w, gamma)\n",
    "        # log info\n",
    "        if iter % 1 == 0:\n",
    "            print(\"Current iteration={i}, the loss={l}\".format(i=iter, l=loss))\n",
    "        # converge criterion\n",
    "        losses.append(loss)\n",
    "        if len(losses) > 1 and np.abs(losses[-1] - losses[-2]) < threshold:\n",
    "            break\n",
    "    # visualization\n",
    "    visualization(y, x, mean_x, std_x, w, \"classification_by_logistic_regression_newton_method\",True)\n",
    "    print(\"loss={l}\".format(l=calculate_loss(y, tx, w)))\n",
    "\n",
    "logistic_regression_newton_method_demo(y, x)"
   ]
  },
  {
   "cell_type": "markdown",
   "metadata": {},
   "source": [
    "### Using penalized logistic regression (first-order, no Newton)\n",
    "Fill in the function below."
   ]
  },
  {
   "cell_type": "code",
   "execution_count": null,
   "metadata": {
    "collapsed": true,
    "jupyter": {
     "outputs_hidden": true
    }
   },
   "outputs": [],
   "source": [
    "def penalized_logistic_regression(y, tx, w, lambda_):\n",
    "    \"\"\"return the loss, gradient\"\"\"\n",
    "    # ***************************************************\n",
    "    # INSERT YOUR CODE HERE\n",
    "    # return loss, gradient, and Hessian: TODO\n",
    "    # ***************************************************\n",
    "    raise NotImplementedError"
   ]
  },
  {
   "cell_type": "code",
   "execution_count": null,
   "metadata": {
    "collapsed": true,
    "jupyter": {
     "outputs_hidden": true
    }
   },
   "outputs": [],
   "source": [
    "def learning_by_penalized_gradient(y, tx, w, gamma, lambda_):\n",
    "    \"\"\"\n",
    "    Do one step of gradient descent, using the penalized logistic regression.\n",
    "    Return the loss and updated w.\n",
    "    \"\"\"\n",
    "    # ***************************************************\n",
    "    # INSERT YOUR CODE HERE\n",
    "    # return loss, gradient: TODO\n",
    "    # ***************************************************\n",
    "    raise NotImplementedError\n",
    "    # ***************************************************\n",
    "    # INSERT YOUR CODE HERE\n",
    "    # update w: TODO\n",
    "    # ***************************************************\n",
    "    raise NotImplementedError\n",
    "    return loss, w"
   ]
  },
  {
   "cell_type": "code",
   "execution_count": null,
   "metadata": {},
   "outputs": [],
   "source": [
    "def logistic_regression_penalized_gradient_descent_demo(y, x):\n",
    "    # init parameters\n",
    "    max_iter = 10000\n",
    "    gamma = 0.01\n",
    "    lambda_ = 0.1\n",
    "    threshold = 1e-8\n",
    "    losses = []\n",
    "\n",
    "    # build tx\n",
    "    tx = np.c_[np.ones((y.shape[0], 1)), x]\n",
    "    w = np.zeros((tx.shape[1], 1))\n",
    "\n",
    "    # start the logistic regression\n",
    "    for iter in range(max_iter):\n",
    "        # get loss and update w.\n",
    "        loss, w = learning_by_penalized_gradient(y, tx, w, gamma, lambda_)\n",
    "        # log info\n",
    "        if iter % 100 == 0:\n",
    "            print(\"Current iteration={i}, loss={l}\".format(i=iter, l=loss))\n",
    "        # converge criterion\n",
    "        losses.append(loss)\n",
    "        if len(losses) > 1 and np.abs(losses[-1] - losses[-2]) < threshold:\n",
    "            break\n",
    "    # visualization\n",
    "    visualization(y, x, mean_x, std_x, w, \"classification_by_logistic_regression_penalized_gradient_descent\",True)\n",
    "    print(\"loss={l}\".format(l=calculate_loss(y, tx, w)))\n",
    "    \n",
    "logistic_regression_penalized_gradient_descent_demo(y, x)"
   ]
  },
  {
   "cell_type": "code",
   "execution_count": null,
   "metadata": {
    "collapsed": true,
    "jupyter": {
     "outputs_hidden": true
    }
   },
   "outputs": [],
   "source": []
  }
 ],
 "metadata": {
  "anaconda-cloud": {},
  "kernelspec": {
   "display_name": "Python 3",
   "language": "python",
   "name": "python3"
  },
  "language_info": {
   "codemirror_mode": {
    "name": "ipython",
    "version": 3
   },
   "file_extension": ".py",
   "mimetype": "text/x-python",
   "name": "python",
   "nbconvert_exporter": "python",
   "pygments_lexer": "ipython3",
   "version": "3.7.5"
  }
 },
 "nbformat": 4,
 "nbformat_minor": 4
}
